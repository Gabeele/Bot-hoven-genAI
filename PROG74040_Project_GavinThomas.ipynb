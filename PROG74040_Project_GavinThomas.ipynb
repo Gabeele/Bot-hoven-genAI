{
  "cells": [
    {
      "cell_type": "markdown",
      "metadata": {
        "id": "uEkarQAbvUnw"
      },
      "source": [
        "# Bot-hoven: Music Generation with AI\n",
        "\n",
        "**A project for PROG74040 Advanced Topics of AI and ML**  \n",
        "**By Thomas Horvath and Gavin Abeele**\n",
        "\n",
        "## Project Summary\n",
        "\n",
        "Bot-hoven is an project that leverages advanced AI and machine learning techniques to generate music. Using Long Short-Term Memory (LSTM) neural networks, the project aims to compose music by learning from existing MIDI datasets. This exploration of AI in the creative domain for a college assignment. The generated compositions are evaluated for their musical coherence and creativity, showcasing the capabilities of AI in generating complex sequences of notes.\n",
        "\n",
        "### Datasets\n",
        "\n",
        "The project utilizes MIDI datasets, which are collections of digital musical compositions that can be processed to train the AI model. The MIDI files contain sequences of notes and chords, providing rich data for learning musical patterns.\n",
        "\n",
        "#### MIDI Datasets\n",
        "\n",
        "1. **Classical Piano MIDI Music**\n",
        "   - Provided by Gautam Chutani.\n",
        "   - Link: [Classical Piano MIDI Music](https://www.kaggle.com/datasets/gautamgc75/classical-piano-MIDI-music)\n",
        "\n",
        "2. **Classical Music MIDI**\n",
        "   - Provided by Rakshit, S.\n",
        "   - Link: [Classical Music MIDI](https://www.kaggle.com/datasets/soumikrakshit/classical-music-MIDI)\n",
        "\n",
        "### File Structure\n",
        "\n",
        "- **music/**: Contains the MIDI dataset files used for training.\n",
        "- **models/**: Contains the trained models and associated weights.\n",
        "- **outputs/**: Stores the generated MIDI files from the model.\n",
        "- **loss_curves/**: Contains PNG images of the loss curves over training epochs, providing insight into the model's learning process.\n",
        "\n",
        "### Disclaimer\n",
        "\n",
        "This project is computationally intensive and performs best with GPU acceleration. Using a GPU significantly reduces training time and enhances model performance. It is recommended to run the model on a platform that supports GPU processing, such as Google Colab, AWS, or a local machine with an NVIDIA GPU.\n",
        "\n",
        "## Getting Started\n",
        "\n",
        "Follow these steps to set up the Bot-hoven project on your local machine.\n",
        "\n",
        "### Prerequisites\n",
        "\n",
        "- Ensure you have Python 3.x installed on your system.\n",
        "- Install Jupyter Notebook or Jupyter Lab to run the notebooks.\n",
        "- \n",
        "### Download the Datasets\n",
        "You will need to download the MIDI datasets used for training the AI model. Follow these links to download the datasets:\n",
        "\n",
        "1. **Classical Piano MIDI Music**\n",
        "   - Provided by Gautam Chutani.\n",
        "   - Link: [Classical Piano MIDI Music](https://www.kaggle.com/datasets/gautamgc75/classical-piano-MIDI-music)\n",
        "\n",
        "2. **Classical Music MIDI**\n",
        "   - Provided by Rakshit, S.\n",
        "   - Link: [Classical Music MIDI](https://www.kaggle.com/datasets/soumikrakshit/classical-music-MIDI)\n",
        "\n",
        "#### Organize the Datasets\n",
        "After downloading the datasets, move the MIDI files into the datasets/music/ directory. Ensure that all MIDI files are placed directly in the music folder without any subdirectories.\n",
        "\n",
        "#### Steps to Organize Files:\n",
        "Extract the downloaded dataset archives to your local machine.\n",
        "Copy all .mid or .midi files into the datasets/music/ folder in the cloned repository.\n",
        "The final structure should look like this:\n",
        "\n",
        "### Configure the Variables \n",
        "In the third cell block, global and model variables are there to easily configure and modify the system. "
      ]
    },
    {
      "cell_type": "markdown",
      "metadata": {},
      "source": [
        "# Environment Setup"
      ]
    },
    {
      "cell_type": "markdown",
      "metadata": {},
      "source": [
        "## Download Dependencies"
      ]
    },
    {
      "cell_type": "code",
      "execution_count": 16,
      "metadata": {
        "colab": {
          "base_uri": "https://localhost:8080/"
        },
        "id": "KuvFYsEo6Q3W",
        "outputId": "fb9481da-f60f-446a-f712-18c51e56f46a"
      },
      "outputs": [
        {
          "name": "stdout",
          "output_type": "stream",
          "text": [
            "Requirement already satisfied: matplotlib in c:\\users\\gavin\\anaconda3\\envs\\prog74040\\lib\\site-packages (3.9.1.post1)\n",
            "Requirement already satisfied: pathlib in c:\\users\\gavin\\anaconda3\\envs\\prog74040\\lib\\site-packages (1.0.1)\n",
            "Requirement already satisfied: music21 in c:\\users\\gavin\\anaconda3\\envs\\prog74040\\lib\\site-packages (9.1.0)\n",
            "Requirement already satisfied: mido in c:\\users\\gavin\\anaconda3\\envs\\prog74040\\lib\\site-packages (1.3.2)\n",
            "Requirement already satisfied: pydub in c:\\users\\gavin\\anaconda3\\envs\\prog74040\\lib\\site-packages (0.25.1)\n",
            "Requirement already satisfied: fluidsynth in c:\\users\\gavin\\anaconda3\\envs\\prog74040\\lib\\site-packages (0.2)\n",
            "Requirement already satisfied: midi2audio in c:\\users\\gavin\\anaconda3\\envs\\prog74040\\lib\\site-packages (0.1.1)\n",
            "Requirement already satisfied: contourpy>=1.0.1 in c:\\users\\gavin\\anaconda3\\envs\\prog74040\\lib\\site-packages (from matplotlib) (1.2.1)\n",
            "Requirement already satisfied: cycler>=0.10 in c:\\users\\gavin\\anaconda3\\envs\\prog74040\\lib\\site-packages (from matplotlib) (0.12.1)\n",
            "Requirement already satisfied: fonttools>=4.22.0 in c:\\users\\gavin\\anaconda3\\envs\\prog74040\\lib\\site-packages (from matplotlib) (4.53.1)\n",
            "Requirement already satisfied: kiwisolver>=1.3.1 in c:\\users\\gavin\\anaconda3\\envs\\prog74040\\lib\\site-packages (from matplotlib) (1.4.5)\n",
            "Requirement already satisfied: numpy>=1.23 in c:\\users\\gavin\\anaconda3\\envs\\prog74040\\lib\\site-packages (from matplotlib) (1.26.4)\n",
            "Requirement already satisfied: packaging>=20.0 in c:\\users\\gavin\\anaconda3\\envs\\prog74040\\lib\\site-packages (from matplotlib) (23.2)\n",
            "Requirement already satisfied: pillow>=8 in c:\\users\\gavin\\anaconda3\\envs\\prog74040\\lib\\site-packages (from matplotlib) (10.4.0)\n",
            "Requirement already satisfied: pyparsing>=2.3.1 in c:\\users\\gavin\\anaconda3\\envs\\prog74040\\lib\\site-packages (from matplotlib) (3.1.2)\n",
            "Requirement already satisfied: python-dateutil>=2.7 in c:\\users\\gavin\\anaconda3\\envs\\prog74040\\lib\\site-packages (from matplotlib) (2.9.0)\n",
            "Requirement already satisfied: chardet in c:\\users\\gavin\\anaconda3\\envs\\prog74040\\lib\\site-packages (from music21) (5.2.0)\n",
            "Requirement already satisfied: joblib in c:\\users\\gavin\\anaconda3\\envs\\prog74040\\lib\\site-packages (from music21) (1.4.2)\n",
            "Requirement already satisfied: jsonpickle in c:\\users\\gavin\\anaconda3\\envs\\prog74040\\lib\\site-packages (from music21) (3.2.2)\n",
            "Requirement already satisfied: more-itertools in c:\\users\\gavin\\anaconda3\\envs\\prog74040\\lib\\site-packages (from music21) (10.4.0)\n",
            "Requirement already satisfied: requests in c:\\users\\gavin\\anaconda3\\envs\\prog74040\\lib\\site-packages (from music21) (2.32.3)\n",
            "Requirement already satisfied: webcolors>=1.5 in c:\\users\\gavin\\anaconda3\\envs\\prog74040\\lib\\site-packages (from music21) (24.6.0)\n",
            "Requirement already satisfied: six>=1.5 in c:\\users\\gavin\\anaconda3\\envs\\prog74040\\lib\\site-packages (from python-dateutil>=2.7->matplotlib) (1.16.0)\n",
            "Requirement already satisfied: charset-normalizer<4,>=2 in c:\\users\\gavin\\anaconda3\\envs\\prog74040\\lib\\site-packages (from requests->music21) (3.3.2)\n",
            "Requirement already satisfied: idna<4,>=2.5 in c:\\users\\gavin\\anaconda3\\envs\\prog74040\\lib\\site-packages (from requests->music21) (3.7)\n",
            "Requirement already satisfied: urllib3<3,>=1.21.1 in c:\\users\\gavin\\anaconda3\\envs\\prog74040\\lib\\site-packages (from requests->music21) (2.2.1)\n",
            "Requirement already satisfied: certifi>=2017.4.17 in c:\\users\\gavin\\anaconda3\\envs\\prog74040\\lib\\site-packages (from requests->music21) (2024.6.2)\n",
            "Note: you may need to restart the kernel to use updated packages.\n"
          ]
        }
      ],
      "source": [
        "%pip install matplotlib pathlib music21 mido pydub fluidsynth midi2audio"
      ]
    },
    {
      "cell_type": "markdown",
      "metadata": {},
      "source": [
        "## Import the Packages"
      ]
    },
    {
      "cell_type": "code",
      "execution_count": 17,
      "metadata": {
        "id": "xaPp6tO_6Q3Z"
      },
      "outputs": [],
      "source": [
        "import numpy as np\n",
        "import pandas as pd\n",
        "import matplotlib.pyplot as plt\n",
        "import os\n",
        "from pathlib import Path\n",
        "from music21 import note, chord, stream, instrument, converter, midi\n",
        "import random\n",
        "from tensorflow.keras.models import Sequential\n",
        "from tensorflow.keras.layers import LSTM, Dropout, Dense, Input\n",
        "from tensorflow.keras.callbacks import ModelCheckpoint, EarlyStopping\n",
        "from tensorflow.keras.utils import to_categorical\n",
        "import pickle"
      ]
    },
    {
      "cell_type": "markdown",
      "metadata": {},
      "source": [
        "## Configure the System Variables"
      ]
    },
    {
      "cell_type": "code",
      "execution_count": 18,
      "metadata": {
        "id": "I-RPK-hw6Q3Z"
      },
      "outputs": [],
      "source": [
        "# Global configurations\n",
        "PLAY_SAMPLE = False       # Option to play a sample of generated music\n",
        "DATASET = 'music/'      # Root directory for MIDI files\n",
        "DATASET_SIZE = 5          # Number of MIDI files to use\n",
        "MODELS_DIR = 'models'    # Directory for saving models\n",
        "OUTPUT_DIR = 'outputs'   # Directory for saving the MIDI files\n",
        "LOSS_CURVES_DIR = 'loss_curves'\n",
        "OUTPUT_NOTES = 500        # Number of notes to generate\n",
        "\n",
        "# Model parameters\n",
        "UNITS = 128                               # Units in LSTM layers\n",
        "DROPOUT_RATE = 0.4                          # Dropout rate for regularization\n",
        "DENSE_UNITS = 128                         # Units in dense layer\n",
        "ACTIVATION = 'softmax'                      # Activation function for output layer\n",
        "LOSS_FUNCTION = 'categorical_crossentropy'  # Loss function\n",
        "OPTIMIZER = 'adam'                          # Optimizer for training\n",
        "EPOCHS = 1                                  # Training epochs\n",
        "BATCH_SIZE = 128                            # Batch size for training"
      ]
    },
    {
      "cell_type": "markdown",
      "metadata": {},
      "source": [
        "# Data Preprocessing"
      ]
    },
    {
      "cell_type": "markdown",
      "metadata": {},
      "source": [
        "## Select MIDI Subset Files\n",
        "\n",
        "This cell selects *n* number of MIDI files for a subdataset at random - each execution will change the subset."
      ]
    },
    {
      "cell_type": "code",
      "execution_count": 19,
      "metadata": {
        "colab": {
          "base_uri": "https://localhost:8080/"
        },
        "id": "SMz7XIcZ6Q3a",
        "outputId": "a014bf07-49aa-4844-b76c-62eb45d2c62f"
      },
      "outputs": [
        {
          "name": "stdout",
          "output_type": "stream",
          "text": [
            "music/ty_januar.mid\n",
            "music/appass_2.mid\n",
            "music/bor_ps6.mid\n",
            "music/beethoven_opus90_2.mid\n",
            "music/alb_se7.mid\n"
          ]
        }
      ],
      "source": [
        "midi_files = []\n",
        "\n",
        "for dirpath, _, filenames in os.walk(DATASET):\n",
        "    for file in filenames:\n",
        "        if file.endswith('.mid') or file.endswith('.midi'):\n",
        "            midi_files.append(os.path.join(dirpath, file))\n",
        "\n",
        "selected_midi_files = random.sample(midi_files, min(DATASET_SIZE, len(midi_files)))\n",
        "\n",
        "for midi_file in selected_midi_files:\n",
        "    print(midi_file)"
      ]
    },
    {
      "cell_type": "markdown",
      "metadata": {},
      "source": [
        "## Data Cleaning and Organization\n",
        "\n",
        "This cell works to collect all the song notes of the file. First parsing the file, collecting song, chords and raw notes. "
      ]
    },
    {
      "cell_type": "code",
      "execution_count": 20,
      "metadata": {
        "colab": {
          "base_uri": "https://localhost:8080/"
        },
        "id": "pGALe5vi6Q3b",
        "outputId": "166fa8d6-8b29-42dd-cc71-92701ece3957"
      },
      "outputs": [
        {
          "name": "stderr",
          "output_type": "stream",
          "text": [
            "c:\\Users\\Gavin\\anaconda3\\envs\\PROG74040\\Lib\\site-packages\\music21\\midi\\translate.py:874: TranslateWarning: Unable to determine instrument from <music21.midi.MidiEvent SEQUENCE_TRACK_NAME, track=4, channel=None, data=b'Copyright \\xa9 2000 by Bernd Kr\\xfcger'>; getting generic Instrument\n",
            "  warnings.warn(\n"
          ]
        },
        {
          "name": "stdout",
          "output_type": "stream",
          "text": [
            "Title: None\n",
            "Composer: None\n",
            "Extracted 1083 notes from music/ty_januar.mid\n"
          ]
        },
        {
          "name": "stderr",
          "output_type": "stream",
          "text": [
            "c:\\Users\\Gavin\\anaconda3\\envs\\PROG74040\\Lib\\site-packages\\music21\\midi\\translate.py:874: TranslateWarning: Unable to determine instrument from <music21.midi.MidiEvent SEQUENCE_TRACK_NAME, track=5, channel=None, data=b'Copyright \\xa9 2001 by Bernd Kr\\xfcger'>; getting generic Instrument\n",
            "  warnings.warn(\n"
          ]
        },
        {
          "name": "stdout",
          "output_type": "stream",
          "text": [
            "Title: None\n",
            "Composer: None\n",
            "Extracted 1186 notes from music/appass_2.mid\n",
            "Title: None\n",
            "Composer: None\n",
            "Extracted 518 notes from music/bor_ps6.mid\n"
          ]
        },
        {
          "name": "stderr",
          "output_type": "stream",
          "text": [
            "c:\\Users\\Gavin\\anaconda3\\envs\\PROG74040\\Lib\\site-packages\\music21\\midi\\translate.py:874: TranslateWarning: Unable to determine instrument from <music21.midi.MidiEvent SEQUENCE_TRACK_NAME, track=5, channel=None, data=b'Copyright \\xa9 2010 by Bernd Krueger'>; getting generic Instrument\n",
            "  warnings.warn(\n"
          ]
        },
        {
          "name": "stdout",
          "output_type": "stream",
          "text": [
            "Title: None\n",
            "Composer: None\n",
            "Extracted 3127 notes from music/beethoven_opus90_2.mid\n"
          ]
        },
        {
          "name": "stderr",
          "output_type": "stream",
          "text": [
            "c:\\Users\\Gavin\\anaconda3\\envs\\PROG74040\\Lib\\site-packages\\music21\\midi\\translate.py:874: TranslateWarning: Unable to determine instrument from <music21.midi.MidiEvent SEQUENCE_TRACK_NAME, track=4, channel=None, data=b'Copyright \\xa9 2001 by Bernd Kr\\xfcger'>; getting generic Instrument\n",
            "  warnings.warn(\n"
          ]
        },
        {
          "name": "stdout",
          "output_type": "stream",
          "text": [
            "Title: None\n",
            "Composer: None\n",
            "Extracted 1240 notes from music/alb_se7.mid\n"
          ]
        }
      ],
      "source": [
        "# Process selected MIDI files and extract notes and chords for each song\n",
        "songs_notes = {}\n",
        "\n",
        "for midi_file in selected_midi_files:\n",
        "    # Parse the MIDI file to get the complete stream\n",
        "    midi_stream = converter.parse(midi_file)\n",
        "\n",
        "    # Display metadata for debugging\n",
        "    title = midi_stream.metadata.title if midi_stream.metadata else \"Unknown\"\n",
        "    composer = midi_stream.metadata.composer if midi_stream.metadata else \"Unknown\"\n",
        "    print(f\"Title: {title}\")\n",
        "    print(f\"Composer: {composer}\")\n",
        "\n",
        "    # Collect raw and processed notes for this song\n",
        "    song_notes = []\n",
        "    raw_notes = []\n",
        "\n",
        "    # Iterate through all parts and set each instrument to Piano\n",
        "    for part in midi_stream.parts:\n",
        "        part.insert(0, instrument.Piano())\n",
        "\n",
        "        # Flatten the stream to access all notes and chords\n",
        "        notes_to_parse = part.flatten().notes\n",
        "\n",
        "        # Collect notes and chords\n",
        "        for element in notes_to_parse:\n",
        "            raw_notes.append(str(element))\n",
        "            if isinstance(element, note.Note):\n",
        "                song_notes.append(str(element.pitch))\n",
        "            elif isinstance(element, chord.Chord):\n",
        "                song_notes.append('+'.join(str(n) for n in element.normalOrder))\n",
        "\n",
        "    # Store notes for this song\n",
        "    songs_notes[midi_file] = {\"raw\": raw_notes, \"processed\": song_notes}\n",
        "    print(f\"Extracted {len(song_notes)} notes from {midi_file}\")\n"
      ]
    },
    {
      "cell_type": "markdown",
      "metadata": {},
      "source": [
        "## Display Metadata\n",
        "\n",
        "This cell displays the metadata of the file to get an understanding of unique notes and elements. "
      ]
    },
    {
      "cell_type": "code",
      "execution_count": 21,
      "metadata": {
        "colab": {
          "base_uri": "https://localhost:8080/"
        },
        "id": "RfZb6liS6Q3b",
        "outputId": "af7d0205-29b0-4876-aeaa-9974829e1f7e"
      },
      "outputs": [
        {
          "name": "stdout",
          "output_type": "stream",
          "text": [
            "File: music/ty_januar.mid\n",
            "Total raw elements: 1083\n",
            "Raw elements (first 10): ['<music21.note.Note F#>', '<music21.note.Note G#>', '<music21.note.Note A>', '<music21.note.Note G#>', '<music21.chord.Chord E4 B3>', '<music21.note.Note B>', '<music21.note.Note E>', '<music21.note.Note A>', '<music21.chord.Chord G#4 B4>', '<music21.note.Note E>']\n",
            "Total processed notes: 1083\n",
            "Unique processed notes: 106\n",
            "Processed notes (first 10): ['F#4', 'G#4', 'A4', 'G#4', '11+4', 'B4', 'E4', 'A4', '8+11', 'E4']\n",
            "----------------------------------------\n",
            "File: music/appass_2.mid\n",
            "Total raw elements: 1186\n",
            "Raw elements (first 10): ['<music21.chord.Chord C#3 F3 G#3>', '<music21.chord.Chord C#3 B-3 F#3>', '<music21.chord.Chord C#3 F3 G#3>', '<music21.chord.Chord B-3 E-3 C#3>', '<music21.chord.Chord C#3 E-3 G#3>', '<music21.chord.Chord G#3 C3 E-3>', '<music21.chord.Chord C#3 F3 G#3>', '<music21.chord.Chord C#4 G#3 F3>', '<music21.chord.Chord F#3 B-3 C#4>', '<music21.chord.Chord G#3 F3 C#4>']\n",
            "Total processed notes: 1186\n",
            "Unique processed notes: 95\n",
            "Processed notes (first 10): ['1+5+8', '6+10+1', '1+5+8', '10+1+3', '1+3+8', '8+0+3', '1+5+8', '1+5+8', '6+10+1', '1+5+8']\n",
            "----------------------------------------\n",
            "File: music/bor_ps6.mid\n",
            "Total raw elements: 518\n",
            "Raw elements (first 10): ['<music21.chord.Chord F#3 B-3 C#3>', '<music21.chord.Chord C#3 F#3 B-3>', '<music21.chord.Chord F#3 C#4 B-3 C#3>', '<music21.chord.Chord C#4 B-3 F#3 C#3>', '<music21.chord.Chord F3 G#3 C#3>', '<music21.chord.Chord C#3 F3 G#3>', '<music21.chord.Chord C#3 C#4 F3>', '<music21.chord.Chord C#4 F3 C#3>', '<music21.chord.Chord C#3 F#3 E-3>', '<music21.chord.Chord E-3 C#3 F#3>']\n",
            "Total processed notes: 518\n",
            "Unique processed notes: 50\n",
            "Processed notes (first 10): ['6+10+1', '6+10+1', '6+10+1', '6+10+1', '1+5+8', '1+5+8', '1+5', '1+5', '1+3+6', '1+3+6']\n",
            "----------------------------------------\n",
            "File: music/beethoven_opus90_2.mid\n",
            "Total raw elements: 3127\n",
            "Raw elements (first 10): ['<music21.note.Note E>', '<music21.note.Note F#>', '<music21.note.Note E>', '<music21.note.Note G#>', '<music21.note.Note B>', '<music21.note.Note E>', '<music21.note.Note B>', '<music21.chord.Chord G#4 B4>', '<music21.note.Note B>', '<music21.chord.Chord F#4 A4>']\n",
            "Total processed notes: 3127\n",
            "Unique processed notes: 134\n",
            "Processed notes (first 10): ['E4', 'F#4', 'E4', 'G#4', 'B3', 'E4', 'B3', '8+11', 'B3', '6+9']\n",
            "----------------------------------------\n",
            "File: music/alb_se7.mid\n",
            "Total raw elements: 1240\n",
            "Raw elements (first 10): ['<music21.chord.Chord B4 G#4 E-5>', '<music21.note.Note F#>', '<music21.chord.Chord E-5 B4 G#4>', '<music21.note.Note F#>', '<music21.chord.Chord E-5 G#4 B4>', '<music21.note.Note F#>', '<music21.chord.Chord G#4 B4 E-5>', '<music21.note.Note F#>', '<music21.chord.Chord G#4 E-5 B4>', '<music21.note.Note F#>']\n",
            "Total processed notes: 1240\n",
            "Unique processed notes: 138\n",
            "Processed notes (first 10): ['8+11+3', 'F#4', '8+11+3', 'F#4', '8+11+3', 'F#4', '8+11+3', 'F#4', '8+11+3', 'F#4']\n",
            "----------------------------------------\n"
          ]
        }
      ],
      "source": [
        "# Analyze and display statistics about the notes for each song\n",
        "for midi_file, notes_data in songs_notes.items():\n",
        "    print(f\"File: {midi_file}\")\n",
        "    print(\"Total raw elements:\", len(notes_data[\"raw\"]))\n",
        "    print(\"Raw elements (first 10):\", notes_data[\"raw\"][:10])\n",
        "    print(\"Total processed notes:\", len(notes_data[\"processed\"]))\n",
        "    print(\"Unique processed notes:\", len(set(notes_data[\"processed\"])))\n",
        "    print(\"Processed notes (first 10):\", notes_data[\"processed\"][:10])\n",
        "    print(\"-\" * 40)"
      ]
    },
    {
      "cell_type": "markdown",
      "metadata": {},
      "source": [
        "## Save Notes to File\n",
        "\n",
        "Notes of the song are saved."
      ]
    },
    {
      "cell_type": "code",
      "execution_count": 22,
      "metadata": {
        "colab": {
          "base_uri": "https://localhost:8080/"
        },
        "id": "WQzQQWu86Q3b",
        "outputId": "e8515dab-fa3f-48e1-fb12-ab66890458a1"
      },
      "outputs": [
        {
          "name": "stdout",
          "output_type": "stream",
          "text": [
            "Loaded 1083 processed notes from music/ty_januar.mid\n",
            "Loaded 1186 processed notes from music/appass_2.mid\n",
            "Loaded 518 processed notes from music/bor_ps6.mid\n",
            "Loaded 3127 processed notes from music/beethoven_opus90_2.mid\n",
            "Loaded 1240 processed notes from music/alb_se7.mid\n"
          ]
        }
      ],
      "source": [
        "# Serialize and save notes for each song to a file\n",
        "with open(\"./songs_notes.pkl\", \"wb\") as file:\n",
        "    pickle.dump(songs_notes, file)\n",
        "\n",
        "# Load notes from a file\n",
        "with open(\"./songs_notes.pkl\", \"rb\") as file:\n",
        "    loaded_songs_notes = pickle.load(file)\n",
        "\n",
        "# Verify loaded notes\n",
        "for midi_file, notes_data in loaded_songs_notes.items():\n",
        "    print(f\"Loaded {len(notes_data['processed'])} processed notes from {midi_file}\")\n"
      ]
    },
    {
      "cell_type": "markdown",
      "metadata": {},
      "source": [
        "## Data Training Preparation\n",
        "\n",
        "In this cell the data is prepared for training and involved collecting all the musical notes and transforming them into numerical format. "
      ]
    },
    {
      "cell_type": "code",
      "execution_count": 23,
      "metadata": {
        "colab": {
          "base_uri": "https://localhost:8080/"
        },
        "id": "OveebWWq6Q3d",
        "outputId": "cbc49354-ed46-4f7a-d60c-d237c40b4e84"
      },
      "outputs": [
        {
          "name": "stdout",
          "output_type": "stream",
          "text": [
            "Total sequences: 7054\n",
            "Input shape: (7054, 100, 1)\n",
            "Output shape: (7054, 202)\n"
          ]
        }
      ],
      "source": [
        "# Collect all notes from all songs\n",
        "all_notes = [note for notes_data in songs_notes.values() for note in notes_data[\"processed\"]]\n",
        "\n",
        "# Get all unique pitch names\n",
        "pitchnames = sorted(set(all_notes))\n",
        "n_vocab = len(pitchnames)\n",
        "\n",
        "# Create a dictionary to map pitches to integers\n",
        "note_to_int = {element: idx for idx, element in enumerate(pitchnames)}\n",
        "\n",
        "# Create a reverse mapping\n",
        "int_to_note = {idx: element for element, idx in note_to_int.items()}\n",
        "\n",
        "# Sequence length for training\n",
        "sequence_len = 100\n",
        "\n",
        "# Prepare input and output sequences\n",
        "network_input = []\n",
        "network_output = []\n",
        "\n",
        "for i in range(len(all_notes) - sequence_len):\n",
        "    seq_in = all_notes[i: i + sequence_len]\n",
        "    seq_out = all_notes[i + sequence_len]\n",
        "\n",
        "    # Map notes to integers\n",
        "    network_input.append([note_to_int[n] for n in seq_in])\n",
        "    network_output.append(note_to_int[seq_out])\n",
        "\n",
        "print(f\"Total sequences: {len(network_input)}\")\n",
        "\n",
        "# Convert input data to a numpy array\n",
        "network_input = np.asarray(network_input)\n",
        "\n",
        "# Reshape input data into a shape compatible with LSTM layers\n",
        "normalised_network_input = np.reshape(network_input, (*(network_input.shape), 1))\n",
        "\n",
        "# Normalize the input data\n",
        "normalised_network_input = normalised_network_input / float(n_vocab)\n",
        "\n",
        "# One-hot encode the output data\n",
        "network_output = to_categorical(network_output, num_classes=n_vocab)\n",
        "\n",
        "print(f\"Input shape: {normalised_network_input.shape}\")\n",
        "print(f\"Output shape: {network_output.shape}\")\n"
      ]
    },
    {
      "cell_type": "markdown",
      "metadata": {},
      "source": [
        "# Model and Training"
      ]
    },
    {
      "cell_type": "markdown",
      "metadata": {},
      "source": [
        "## Defining Architecture  \n",
        "\n",
        "This cell constructs the LSTM NN in a sequential manner with three LSTM layers, dropout layers, and sens layers. "
      ]
    },
    {
      "cell_type": "code",
      "execution_count": 24,
      "metadata": {
        "colab": {
          "base_uri": "https://localhost:8080/",
          "height": 400
        },
        "id": "dHUlTsWU6Q3e",
        "outputId": "1830f31b-4427-4e93-b653-4030607e707a"
      },
      "outputs": [
        {
          "data": {
            "text/html": [
              "<pre style=\"white-space:pre;overflow-x:auto;line-height:normal;font-family:Menlo,'DejaVu Sans Mono',consolas,'Courier New',monospace\"><span style=\"font-weight: bold\">Model: \"sequential_1\"</span>\n",
              "</pre>\n"
            ],
            "text/plain": [
              "\u001b[1mModel: \"sequential_1\"\u001b[0m\n"
            ]
          },
          "metadata": {},
          "output_type": "display_data"
        },
        {
          "data": {
            "text/html": [
              "<pre style=\"white-space:pre;overflow-x:auto;line-height:normal;font-family:Menlo,'DejaVu Sans Mono',consolas,'Courier New',monospace\">┏━━━━━━━━━━━━━━━━━━━━━━━━━━━━━━━━━┳━━━━━━━━━━━━━━━━━━━━━━━━┳━━━━━━━━━━━━━━━┓\n",
              "┃<span style=\"font-weight: bold\"> Layer (type)                    </span>┃<span style=\"font-weight: bold\"> Output Shape           </span>┃<span style=\"font-weight: bold\">       Param # </span>┃\n",
              "┡━━━━━━━━━━━━━━━━━━━━━━━━━━━━━━━━━╇━━━━━━━━━━━━━━━━━━━━━━━━╇━━━━━━━━━━━━━━━┩\n",
              "│ lstm_3 (<span style=\"color: #0087ff; text-decoration-color: #0087ff\">LSTM</span>)                   │ (<span style=\"color: #00d7ff; text-decoration-color: #00d7ff\">None</span>, <span style=\"color: #00af00; text-decoration-color: #00af00\">100</span>, <span style=\"color: #00af00; text-decoration-color: #00af00\">128</span>)       │        <span style=\"color: #00af00; text-decoration-color: #00af00\">66,560</span> │\n",
              "├─────────────────────────────────┼────────────────────────┼───────────────┤\n",
              "│ dropout_3 (<span style=\"color: #0087ff; text-decoration-color: #0087ff\">Dropout</span>)             │ (<span style=\"color: #00d7ff; text-decoration-color: #00d7ff\">None</span>, <span style=\"color: #00af00; text-decoration-color: #00af00\">100</span>, <span style=\"color: #00af00; text-decoration-color: #00af00\">128</span>)       │             <span style=\"color: #00af00; text-decoration-color: #00af00\">0</span> │\n",
              "├─────────────────────────────────┼────────────────────────┼───────────────┤\n",
              "│ lstm_4 (<span style=\"color: #0087ff; text-decoration-color: #0087ff\">LSTM</span>)                   │ (<span style=\"color: #00d7ff; text-decoration-color: #00d7ff\">None</span>, <span style=\"color: #00af00; text-decoration-color: #00af00\">100</span>, <span style=\"color: #00af00; text-decoration-color: #00af00\">128</span>)       │       <span style=\"color: #00af00; text-decoration-color: #00af00\">131,584</span> │\n",
              "├─────────────────────────────────┼────────────────────────┼───────────────┤\n",
              "│ dropout_4 (<span style=\"color: #0087ff; text-decoration-color: #0087ff\">Dropout</span>)             │ (<span style=\"color: #00d7ff; text-decoration-color: #00d7ff\">None</span>, <span style=\"color: #00af00; text-decoration-color: #00af00\">100</span>, <span style=\"color: #00af00; text-decoration-color: #00af00\">128</span>)       │             <span style=\"color: #00af00; text-decoration-color: #00af00\">0</span> │\n",
              "├─────────────────────────────────┼────────────────────────┼───────────────┤\n",
              "│ lstm_5 (<span style=\"color: #0087ff; text-decoration-color: #0087ff\">LSTM</span>)                   │ (<span style=\"color: #00d7ff; text-decoration-color: #00d7ff\">None</span>, <span style=\"color: #00af00; text-decoration-color: #00af00\">128</span>)            │       <span style=\"color: #00af00; text-decoration-color: #00af00\">131,584</span> │\n",
              "├─────────────────────────────────┼────────────────────────┼───────────────┤\n",
              "│ dense_2 (<span style=\"color: #0087ff; text-decoration-color: #0087ff\">Dense</span>)                 │ (<span style=\"color: #00d7ff; text-decoration-color: #00d7ff\">None</span>, <span style=\"color: #00af00; text-decoration-color: #00af00\">128</span>)            │        <span style=\"color: #00af00; text-decoration-color: #00af00\">16,512</span> │\n",
              "├─────────────────────────────────┼────────────────────────┼───────────────┤\n",
              "│ dropout_5 (<span style=\"color: #0087ff; text-decoration-color: #0087ff\">Dropout</span>)             │ (<span style=\"color: #00d7ff; text-decoration-color: #00d7ff\">None</span>, <span style=\"color: #00af00; text-decoration-color: #00af00\">128</span>)            │             <span style=\"color: #00af00; text-decoration-color: #00af00\">0</span> │\n",
              "├─────────────────────────────────┼────────────────────────┼───────────────┤\n",
              "│ dense_3 (<span style=\"color: #0087ff; text-decoration-color: #0087ff\">Dense</span>)                 │ (<span style=\"color: #00d7ff; text-decoration-color: #00d7ff\">None</span>, <span style=\"color: #00af00; text-decoration-color: #00af00\">202</span>)            │        <span style=\"color: #00af00; text-decoration-color: #00af00\">26,058</span> │\n",
              "└─────────────────────────────────┴────────────────────────┴───────────────┘\n",
              "</pre>\n"
            ],
            "text/plain": [
              "┏━━━━━━━━━━━━━━━━━━━━━━━━━━━━━━━━━┳━━━━━━━━━━━━━━━━━━━━━━━━┳━━━━━━━━━━━━━━━┓\n",
              "┃\u001b[1m \u001b[0m\u001b[1mLayer (type)                   \u001b[0m\u001b[1m \u001b[0m┃\u001b[1m \u001b[0m\u001b[1mOutput Shape          \u001b[0m\u001b[1m \u001b[0m┃\u001b[1m \u001b[0m\u001b[1m      Param #\u001b[0m\u001b[1m \u001b[0m┃\n",
              "┡━━━━━━━━━━━━━━━━━━━━━━━━━━━━━━━━━╇━━━━━━━━━━━━━━━━━━━━━━━━╇━━━━━━━━━━━━━━━┩\n",
              "│ lstm_3 (\u001b[38;5;33mLSTM\u001b[0m)                   │ (\u001b[38;5;45mNone\u001b[0m, \u001b[38;5;34m100\u001b[0m, \u001b[38;5;34m128\u001b[0m)       │        \u001b[38;5;34m66,560\u001b[0m │\n",
              "├─────────────────────────────────┼────────────────────────┼───────────────┤\n",
              "│ dropout_3 (\u001b[38;5;33mDropout\u001b[0m)             │ (\u001b[38;5;45mNone\u001b[0m, \u001b[38;5;34m100\u001b[0m, \u001b[38;5;34m128\u001b[0m)       │             \u001b[38;5;34m0\u001b[0m │\n",
              "├─────────────────────────────────┼────────────────────────┼───────────────┤\n",
              "│ lstm_4 (\u001b[38;5;33mLSTM\u001b[0m)                   │ (\u001b[38;5;45mNone\u001b[0m, \u001b[38;5;34m100\u001b[0m, \u001b[38;5;34m128\u001b[0m)       │       \u001b[38;5;34m131,584\u001b[0m │\n",
              "├─────────────────────────────────┼────────────────────────┼───────────────┤\n",
              "│ dropout_4 (\u001b[38;5;33mDropout\u001b[0m)             │ (\u001b[38;5;45mNone\u001b[0m, \u001b[38;5;34m100\u001b[0m, \u001b[38;5;34m128\u001b[0m)       │             \u001b[38;5;34m0\u001b[0m │\n",
              "├─────────────────────────────────┼────────────────────────┼───────────────┤\n",
              "│ lstm_5 (\u001b[38;5;33mLSTM\u001b[0m)                   │ (\u001b[38;5;45mNone\u001b[0m, \u001b[38;5;34m128\u001b[0m)            │       \u001b[38;5;34m131,584\u001b[0m │\n",
              "├─────────────────────────────────┼────────────────────────┼───────────────┤\n",
              "│ dense_2 (\u001b[38;5;33mDense\u001b[0m)                 │ (\u001b[38;5;45mNone\u001b[0m, \u001b[38;5;34m128\u001b[0m)            │        \u001b[38;5;34m16,512\u001b[0m │\n",
              "├─────────────────────────────────┼────────────────────────┼───────────────┤\n",
              "│ dropout_5 (\u001b[38;5;33mDropout\u001b[0m)             │ (\u001b[38;5;45mNone\u001b[0m, \u001b[38;5;34m128\u001b[0m)            │             \u001b[38;5;34m0\u001b[0m │\n",
              "├─────────────────────────────────┼────────────────────────┼───────────────┤\n",
              "│ dense_3 (\u001b[38;5;33mDense\u001b[0m)                 │ (\u001b[38;5;45mNone\u001b[0m, \u001b[38;5;34m202\u001b[0m)            │        \u001b[38;5;34m26,058\u001b[0m │\n",
              "└─────────────────────────────────┴────────────────────────┴───────────────┘\n"
            ]
          },
          "metadata": {},
          "output_type": "display_data"
        },
        {
          "data": {
            "text/html": [
              "<pre style=\"white-space:pre;overflow-x:auto;line-height:normal;font-family:Menlo,'DejaVu Sans Mono',consolas,'Courier New',monospace\"><span style=\"font-weight: bold\"> Total params: </span><span style=\"color: #00af00; text-decoration-color: #00af00\">372,298</span> (1.42 MB)\n",
              "</pre>\n"
            ],
            "text/plain": [
              "\u001b[1m Total params: \u001b[0m\u001b[38;5;34m372,298\u001b[0m (1.42 MB)\n"
            ]
          },
          "metadata": {},
          "output_type": "display_data"
        },
        {
          "data": {
            "text/html": [
              "<pre style=\"white-space:pre;overflow-x:auto;line-height:normal;font-family:Menlo,'DejaVu Sans Mono',consolas,'Courier New',monospace\"><span style=\"font-weight: bold\"> Trainable params: </span><span style=\"color: #00af00; text-decoration-color: #00af00\">372,298</span> (1.42 MB)\n",
              "</pre>\n"
            ],
            "text/plain": [
              "\u001b[1m Trainable params: \u001b[0m\u001b[38;5;34m372,298\u001b[0m (1.42 MB)\n"
            ]
          },
          "metadata": {},
          "output_type": "display_data"
        },
        {
          "data": {
            "text/html": [
              "<pre style=\"white-space:pre;overflow-x:auto;line-height:normal;font-family:Menlo,'DejaVu Sans Mono',consolas,'Courier New',monospace\"><span style=\"font-weight: bold\"> Non-trainable params: </span><span style=\"color: #00af00; text-decoration-color: #00af00\">0</span> (0.00 B)\n",
              "</pre>\n"
            ],
            "text/plain": [
              "\u001b[1m Non-trainable params: \u001b[0m\u001b[38;5;34m0\u001b[0m (0.00 B)\n"
            ]
          },
          "metadata": {},
          "output_type": "display_data"
        }
      ],
      "source": [
        "model = Sequential()\n",
        "model.add(Input(shape=(normalised_network_input.shape[1], normalised_network_input.shape[2])))\n",
        "model.add(LSTM(units=UNITS, return_sequences=True))\n",
        "model.add(Dropout(DROPOUT_RATE))\n",
        "model.add(LSTM(units=UNITS, return_sequences=True))\n",
        "model.add(Dropout(DROPOUT_RATE))\n",
        "model.add(LSTM(units=UNITS))\n",
        "model.add(Dense(DENSE_UNITS))\n",
        "model.add(Dropout(DROPOUT_RATE))\n",
        "model.add(Dense(n_vocab, activation=ACTIVATION))\n",
        "model.compile(loss=LOSS_FUNCTION, optimizer=OPTIMIZER)\n",
        "\n",
        "# Display model architecture\n",
        "model.summary()"
      ]
    },
    {
      "cell_type": "markdown",
      "metadata": {},
      "source": [
        "## Train the Model\n",
        "\n",
        "Below is the model training on each epoch. "
      ]
    },
    {
      "cell_type": "code",
      "execution_count": 25,
      "metadata": {
        "colab": {
          "base_uri": "https://localhost:8080/"
        },
        "id": "mEjWcYSw2rXR",
        "outputId": "b82e8a99-2414-464f-c42e-c8989e95557d"
      },
      "outputs": [
        {
          "name": "stdout",
          "output_type": "stream",
          "text": [
            "\u001b[1m56/56\u001b[0m \u001b[32m━━━━━━━━━━━━━━━━━━━━\u001b[0m\u001b[37m\u001b[0m \u001b[1m17s\u001b[0m 245ms/step - loss: 4.9624\n"
          ]
        }
      ],
      "source": [
        "# Define model checkpoint to save the best model weights\n",
        "checkpoint = ModelCheckpoint(\"weights.keras\", monitor='loss', save_best_only=True, mode='min')\n",
        "\n",
        "# Fit the model\n",
        "hist = model.fit(normalised_network_input, network_output, epochs=EPOCHS, batch_size=BATCH_SIZE, callbacks=[checkpoint])"
      ]
    },
    {
      "cell_type": "markdown",
      "metadata": {},
      "source": [
        "## Loss Curve \n",
        "\n",
        "A loss curve is calculated to visualize the succssfullness of the model."
      ]
    },
    {
      "cell_type": "code",
      "execution_count": 26,
      "metadata": {
        "colab": {
          "base_uri": "https://localhost:8080/",
          "height": 414
        },
        "id": "gbNCGBRq0AT0",
        "outputId": "a294de2a-6e98-4512-c0df-2c083f1de13f"
      },
      "outputs": [
        {
          "data": {
            "image/png": "[encoded data removed]",
            "text/plain": [
              "<Figure size 1000x400 with 1 Axes>"
            ]
          },
          "metadata": {
            "image/png": {
              "height": 397,
              "width": 848
            }
          },
          "output_type": "display_data"
        },
        {
          "data": {
            "text/plain": [
              "<Figure size 640x480 with 0 Axes>"
            ]
          },
          "metadata": {},
          "output_type": "display_data"
        }
      ],
      "source": [
        "history_df = pd.DataFrame(hist.history)\n",
        "fig = plt.figure(figsize=(10, 4))\n",
        "plt.plot(history_df.index.to_list(), history_df[\"loss\"], linewidth=2)\n",
        "plt.ylabel(\"Training Loss\", fontsize=12)\n",
        "plt.xlabel(\"Epochs\", fontsize=12)\n",
        "plt.title(\"Loss Function over Time\", fontsize=14, fontstyle='italic')\n",
        "plt.show()\n",
        "\n",
        "file_path = os.path.join(LOSS_CURVES_DIR, f'learning_curve_units{UNITS}_epochs{EPOCHS}_batch{BATCH_SIZE}.png')\n",
        "plt.savefig(file_path)"
      ]
    },
    {
      "cell_type": "markdown",
      "metadata": {},
      "source": [
        "## Saving the Model"
      ]
    },
    {
      "cell_type": "code",
      "execution_count": 27,
      "metadata": {
        "colab": {
          "base_uri": "https://localhost:8080/"
        },
        "id": "Lnk2Ag-f2zn4",
        "outputId": "46587a8f-75b3-4799-b1b4-084591bf81ac"
      },
      "outputs": [
        {
          "name": "stdout",
          "output_type": "stream",
          "text": [
            "Model saved as model_units128_epochs1_batch128.keras\n"
          ]
        }
      ],
      "source": [
        "# Save the final model\n",
        "final_model_filename = f\"model_units{UNITS}_epochs{EPOCHS}_batch{BATCH_SIZE}.keras\"\n",
        "model.save(os.path.join(MODELS_DIR, final_model_filename))\n",
        "\n",
        "print(f\"Model saved as {final_model_filename}\")"
      ]
    },
    {
      "cell_type": "markdown",
      "metadata": {},
      "source": [
        "# Prediction and Music Generation"
      ]
    },
    {
      "cell_type": "markdown",
      "metadata": {},
      "source": [
        "## Predict the Sequence\n",
        "This section uses the model to generate a sequence of notes by predicting the next note in a sequence iteratively.  "
      ]
    },
    {
      "cell_type": "code",
      "execution_count": 28,
      "metadata": {
        "id": "lMnqX3gKNfhk"
      },
      "outputs": [
        {
          "name": "stdout",
          "output_type": "stream",
          "text": [
            "Generated 500 notes.\n"
          ]
        }
      ],
      "source": [
        "start = np.random.randint(0, len(network_input) - 1)    # Picking a seed\n",
        "\n",
        "pattern = list(network_input[start])                    # Copy the sequence to a new list\n",
        "\n",
        "predicted_outputs = []\n",
        "\n",
        "for note_index in range(OUTPUT_NOTES):\n",
        "\n",
        "    inp_seq = np.reshape(pattern, (1, len(pattern), 1))     # Reshape pattern to fit model input shape\n",
        "\n",
        "    inp_seq = inp_seq / float(n_vocab)                      # Normalize the input sequence\n",
        "\n",
        "\n",
        "    prediction = model.predict(inp_seq, verbose=0)          # Predict the next note\n",
        "    pred_index = np.argmax(prediction)\n",
        "    pred_note = int_to_note[pred_index]\n",
        "    predicted_outputs.append(pred_note)\n",
        "\n",
        "    \n",
        "    pattern.append(pred_index)          # Update the pattern: remove the first note and append the predicted note\n",
        "    pattern = pattern[1:]\n",
        "\n",
        "print(f\"Generated {len(predicted_outputs)} notes.\")"
      ]
    },
    {
      "cell_type": "markdown",
      "metadata": {},
      "source": [
        "## Converting to MIDI File"
      ]
    },
    {
      "cell_type": "code",
      "execution_count": 29,
      "metadata": {
        "id": "SzXrbCgFLdLC"
      },
      "outputs": [
        {
          "name": "stdout",
          "output_type": "stream",
          "text": [
            "Generated MIDI file with 500 notes/chords.\n"
          ]
        }
      ],
      "source": [
        "offset = 0\n",
        "output_notes = []\n",
        "\n",
        "for pattern in predicted_outputs:\n",
        "\n",
        "    if ('+' in pattern) or pattern.isdigit():       # If the pattern is a chord, split the string into an array of notes\n",
        "        notes_in_chord = pattern.split('+')\n",
        "\n",
        "        notes_tmp = []                              # Create Note objects for each note in the chord\n",
        "        for current_note in notes_in_chord:\n",
        "            new_note = note.Note(int(current_note))\n",
        "            new_note.storedInstrument = instrument.Piano()\n",
        "            notes_tmp.append(new_note)\n",
        "\n",
        "        new_chord = chord.Chord(notes_tmp)          # Create a Chord from the list of notes\n",
        "        new_chord.offset = offset\n",
        "        output_notes.append(new_chord)\n",
        "    else:\n",
        "        new_note = note.Note(pattern)           # Create a Note object using the string representation of the pitch\n",
        "        new_note.offset = offset\n",
        "        new_note.storedInstrument = instrument.Piano()\n",
        "        output_notes.append(new_note)\n",
        "\n",
        "    offset += 0.5\n",
        "\n",
        "midi_stream = stream.Stream(output_notes)\n",
        "file_path = os.path.join(OUTPUT_DIR, f'model_units{UNITS}_epochs{EPOCHS}_batch{BATCH_SIZE}.mid')\n",
        "midi_stream.write(fmt='midi', fp=file_path)\n",
        "\n",
        "print(f\"Generated MIDI file with {len(output_notes)} notes/chords.\")"
      ]
    },
    {
      "cell_type": "markdown",
      "metadata": {},
      "source": [
        "## Analyzing the Generated MIDI File\n",
        "\n",
        "The final block analyses the MIDI file to quantify the quality (ie. unique number of cords, starting sequences, etc)"
      ]
    },
    {
      "cell_type": "code",
      "execution_count": 30,
      "metadata": {
        "id": "dEQmoT_b1Uug"
      },
      "outputs": [
        {
          "name": "stdout",
          "output_type": "stream",
          "text": [
            "\n",
            "Analyzing generated MIDI file: outputs\\model_units128_epochs1_batch128.mid\n",
            "Total notes: 562\n",
            "Unique notes: 1\n",
            "Sample of notes: ['B3', 'B3', 'B3', 'B3', 'B3', 'B3', 'B3', 'B3', 'B3', 'B3', 'B3', 'B3', 'B3', 'B3', 'B3', 'B3', 'B3', 'B3', 'B3', 'B3', 'B3', 'B3', 'B3', 'B3', 'B3', 'B3', 'B3', 'B3', 'B3', 'B3']\n"
          ]
        }
      ],
      "source": [
        "generated_midi_file = os.path.join(OUTPUT_DIR, f'model_units{UNITS}_epochs{EPOCHS}_batch{BATCH_SIZE}.mid')\n",
        "print(f\"\\nAnalyzing generated MIDI file: {generated_midi_file}\")\n",
        "\n",
        "midi = converter.parse(generated_midi_file)\n",
        "notes = []\n",
        "notes_to_parse = midi.flatten().notes\n",
        "\n",
        "for element in notes_to_parse:\n",
        "    if isinstance(element, note.Note):\n",
        "        notes.append(str(element.pitch))\n",
        "    elif isinstance(element, chord.Chord):\n",
        "        notes.append('.'.join(str(n) for n in element.normalOrder))\n",
        "\n",
        "note_names, counts = np.unique(notes, return_counts=True)\n",
        "unique_notes = len(note_names)\n",
        "total_notes = len(notes)\n",
        "sample_notes = notes[:min(30, len(notes))]\n",
        "\n",
        "print(f\"Total notes: {total_notes}\")\n",
        "print(f\"Unique notes: {unique_notes}\")\n",
        "print(f\"Sample of notes: {sample_notes}\")"
      ]
    }
  ],
  "metadata": {
    "accelerator": "GPU",
    "colab": {
      "gpuType": "T4",
      "provenance": []
    },
    "kernelspec": {
      "display_name": "Python 3",
      "name": "python3"
    },
    "language_info": {
      "codemirror_mode": {
        "name": "ipython",
        "version": 3
      },
      "file_extension": ".py",
      "mimetype": "text/x-python",
      "name": "python",
      "nbconvert_exporter": "python",
      "pygments_lexer": "ipython3",
      "version": "3.11.9"
    }
  },
  "nbformat": 4,
  "nbformat_minor": 0
}
